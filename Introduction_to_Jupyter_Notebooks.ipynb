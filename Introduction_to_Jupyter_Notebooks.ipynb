{
  "nbformat": 4,
  "nbformat_minor": 0,
  "metadata": {
    "colab": {
      "provenance": [],
      "collapsed_sections": [
        "x9qB9ErFYWU7"
      ],
      "mount_file_id": "1LOmLLNLIRCYHQvTX6RkCXDOom2w5G-bs",
      "authorship_tag": "ABX9TyPPRNZi+o/ZUz+RoMLpiW0S",
      "include_colab_link": true
    },
    "kernelspec": {
      "name": "python3",
      "display_name": "Python 3"
    },
    "language_info": {
      "name": "python"
    }
  },
  "cells": [
    {
      "cell_type": "markdown",
      "metadata": {
        "id": "view-in-github",
        "colab_type": "text"
      },
      "source": [
        "<a href=\"https://colab.research.google.com/github/oucemabennasr/Data_science_workshop/blob/main/Introduction_to_Jupyter_Notebooks.ipynb\" target=\"_parent\"><img src=\"https://colab.research.google.com/assets/colab-badge.svg\" alt=\"Open In Colab\"/></a>"
      ]
    },
    {
      "cell_type": "markdown",
      "source": [
        "# Introduction to Jupyter Notebooks\n",
        "1. Basic and Features of Jupyter Notebooks\n",
        "2. Jupyter Features\n",
        "3. Exercise :\n",
        "- Introducing Jupyter Notebooks\n",
        "- Introducing the JupyterLab Platform\n",
        "- Using Jupyter to Learn about pandas DataFrames"
      ],
      "metadata": {
        "id": "G1_XSTpn9Ibv"
      }
    },
    {
      "cell_type": "markdown",
      "source": [
        "# 1. Basic and Features of Jupyter Notebooks"
      ],
      "metadata": {
        "id": "s_Xywwh2-p6c"
      }
    },
    {
      "cell_type": "code",
      "source": [
        "!python --version"
      ],
      "metadata": {
        "colab": {
          "base_uri": "https://localhost:8080/"
        },
        "id": "OscekPNJCm1t",
        "outputId": "aabf640b-e65f-426b-a39e-3d1a7cf768a5"
      },
      "execution_count": 3,
      "outputs": [
        {
          "output_type": "stream",
          "name": "stdout",
          "text": [
            "Python 3.8.10\n"
          ]
        }
      ]
    },
    {
      "cell_type": "code",
      "source": [
        "print(\"Hello data scientist !\")"
      ],
      "metadata": {
        "colab": {
          "base_uri": "https://localhost:8080/"
        },
        "id": "7kvm0-dvGdws",
        "outputId": "9164fbff-b632-4670-8b23-c44df26c9492"
      },
      "execution_count": 4,
      "outputs": [
        {
          "output_type": "stream",
          "name": "stdout",
          "text": [
            "Hello data scientist !\n"
          ]
        }
      ]
    },
    {
      "cell_type": "code",
      "source": [
        "1 + 1 "
      ],
      "metadata": {
        "colab": {
          "base_uri": "https://localhost:8080/"
        },
        "id": "ebNPex2jGoCI",
        "outputId": "9e0c9c70-909b-4d45-fb71-b2c1f6a3d3e3"
      },
      "execution_count": 5,
      "outputs": [
        {
          "output_type": "execute_result",
          "data": {
            "text/plain": [
              "2"
            ]
          },
          "metadata": {},
          "execution_count": 5
        }
      ]
    },
    {
      "cell_type": "code",
      "source": [
        "\"science\" + \" data\""
      ],
      "metadata": {
        "colab": {
          "base_uri": "https://localhost:8080/",
          "height": 38
        },
        "id": "qzwZC6J0GtXL",
        "outputId": "32dde3bb-1eab-41a6-cb80-253cddf0885c"
      },
      "execution_count": 7,
      "outputs": [
        {
          "output_type": "execute_result",
          "data": {
            "text/plain": [
              "'science data'"
            ],
            "application/vnd.google.colaboratory.intrinsic+json": {
              "type": "string"
            }
          },
          "metadata": {},
          "execution_count": 7
        }
      ]
    },
    {
      "cell_type": "code",
      "source": [
        "1/2"
      ],
      "metadata": {
        "colab": {
          "base_uri": "https://localhost:8080/"
        },
        "id": "5lFO_0yXG3Ny",
        "outputId": "4866b3dc-d703-490f-e988-e0859e23cc1d"
      },
      "execution_count": 8,
      "outputs": [
        {
          "output_type": "execute_result",
          "data": {
            "text/plain": [
              "0.5"
            ]
          },
          "metadata": {},
          "execution_count": 8
        }
      ]
    },
    {
      "cell_type": "code",
      "source": [
        "for i in (\"science\" + \" data\"):\n",
        "    print(i)"
      ],
      "metadata": {
        "colab": {
          "base_uri": "https://localhost:8080/"
        },
        "id": "tExV0BLWG9-T",
        "outputId": "12802f3f-ded1-4021-ff40-5aa6fa6dae5b"
      },
      "execution_count": 9,
      "outputs": [
        {
          "output_type": "stream",
          "name": "stdout",
          "text": [
            "s\n",
            "c\n",
            "i\n",
            "e\n",
            "n\n",
            "c\n",
            "e\n",
            " \n",
            "d\n",
            "a\n",
            "t\n",
            "a\n"
          ]
        }
      ]
    },
    {
      "cell_type": "code",
      "source": [
        "L = []\n",
        "for i in range(20):\n",
        "    if i % 2 == 0:\n",
        "        L.append(i ** 2)"
      ],
      "metadata": {
        "id": "16jHxtHgHGXq"
      },
      "execution_count": 13,
      "outputs": []
    },
    {
      "cell_type": "code",
      "source": [
        "L"
      ],
      "metadata": {
        "colab": {
          "base_uri": "https://localhost:8080/"
        },
        "id": "ie_psdYlHgLo",
        "outputId": "58cdab96-671a-4a40-95ac-9a8ee22d43d9"
      },
      "execution_count": 14,
      "outputs": [
        {
          "output_type": "execute_result",
          "data": {
            "text/plain": [
              "[0, 4, 16, 36, 64, 100, 144, 196, 256, 324]"
            ]
          },
          "metadata": {},
          "execution_count": 14
        }
      ]
    },
    {
      "cell_type": "code",
      "source": [
        "S = [i ** 2 for i in range(20) if i % 2 == 0]"
      ],
      "metadata": {
        "id": "KXptnoTyHjiX"
      },
      "execution_count": 19,
      "outputs": []
    },
    {
      "cell_type": "code",
      "source": [
        "S == L"
      ],
      "metadata": {
        "colab": {
          "base_uri": "https://localhost:8080/"
        },
        "id": "6ZLCA1wbH6pa",
        "outputId": "9871da9d-3679-48ab-e2f0-28e0f11f8254"
      },
      "execution_count": 21,
      "outputs": [
        {
          "output_type": "execute_result",
          "data": {
            "text/plain": [
              "True"
            ]
          },
          "metadata": {},
          "execution_count": 21
        }
      ]
    },
    {
      "cell_type": "markdown",
      "source": [
        "## Note\n",
        "Here's the list of basic keyboard shortcuts; these are especially helpful if you wish to avoid having to use the mouse so often, which will greatly speed up your workflow.\n",
        "- Shift + Enter to run a cell\n",
        "- Esc to leave a cell\n",
        "- a to add a cell above\n",
        "- b to add a cell below\n",
        "- dd to delete a cell\n",
        "- m to change a cell to Markdown (after pressing Esc)\n",
        "- y to change a cell to code (after pressing Esc)\n",
        "- Arrow keys to move cells (after pressing Esc)\n",
        "- Enter to enter a cell"
      ],
      "metadata": {
        "id": "D3wNrVsiIAWa"
      }
    },
    {
      "cell_type": "code",
      "source": [
        "import numpy as np\n",
        "np.arange?"
      ],
      "metadata": {
        "id": "NN8Yjsh1KDrR"
      },
      "execution_count": 22,
      "outputs": []
    },
    {
      "cell_type": "code",
      "source": [
        "sorted?"
      ],
      "metadata": {
        "id": "Ej8RYZZpKZtG"
      },
      "execution_count": 23,
      "outputs": []
    },
    {
      "cell_type": "code",
      "source": [
        "a = np.array([1, 2, 3])"
      ],
      "metadata": {
        "id": "h2DNB4TdKj7u"
      },
      "execution_count": 24,
      "outputs": []
    },
    {
      "cell_type": "code",
      "source": [
        "a..*?"
      ],
      "metadata": {
        "id": "4aO53t9hK4qv"
      },
      "execution_count": 25,
      "outputs": []
    },
    {
      "cell_type": "code",
      "source": [
        "# %%bash\n",
        "#pwd\n",
        "# echo \"using bash from inside Jupyter!\" > test-file.txt\n",
        "# ls\n",
        "# echo \"\"\n",
        "# cat test-file.txt\n",
        "# rm test-file.txt"
      ],
      "metadata": {
        "id": "2sKQ3vjlLA0c"
      },
      "execution_count": 27,
      "outputs": []
    },
    {
      "cell_type": "markdown",
      "source": [
        "## Converting a Jupyter Notebook into a Python Script"
      ],
      "metadata": {
        "id": "skblHX5nRA_b"
      }
    },
    {
      "cell_type": "markdown",
      "source": [
        "# jupyter nbconvert --to=python Exemples.ipynb\n",
        "\n",
        "```\n",
        "# jupyter nbconvert --to=python Exemples.ipynb\n",
        "```\n",
        "\n"
      ],
      "metadata": {
        "id": "rlwS_JMzOl6b"
      }
    },
    {
      "cell_type": "markdown",
      "source": [
        "## Python Libraries"
      ],
      "metadata": {
        "id": "99eVF4fdWnc4"
      }
    },
    {
      "cell_type": "markdown",
      "source": [
        "- numpy offers multi-dimensional data structures (arrays) that operations can be\n",
        "performed on. This is far quicker than standard Python data structures (such as\n",
        "lists). This is done in part by performing operations in the background using C.\n",
        "NumPy also offers various mathematical and data manipulation functions.\n",
        "- pandas is Python's answer to the R DataFrame. It stores data in 2D tabular\n",
        "structures where columns represent different variables and rows correspond to\n",
        "samples. pandas provides many handy tools for data wrangling, such as filling in NaN entries and computing statistical descriptions of the data. Working with pandas DataFrames will be a big focus of this book.\n",
        "- matplotlib is a plotting tool inspired by the MATLAB platform. Those familiar\n",
        "with R can think of it as Python's version of ggplot. It's the most popular\n",
        "Python library for plotting figures and allows for a high level of customization.\n",
        "- seaborn works as an extension of matplotlib, where various plotting tools\n",
        "that are useful for data science are included. Generally speaking, this allows\n",
        "for analysis to be done much faster than if you were to create the same things\n",
        "manually with libraries such as matplotlib and scikit-learn.\n",
        "- scikit-learn is the most commonly used machine learning library. It offers\n",
        "top-of-the-line algorithms and a very elegant API where models are instantiated\n",
        "and then fit with data. It also provides data processing modules and other tools\n",
        "that are useful for predictive analytics.\n",
        "- requests is the go-to library for making HTTP requests. It makes it\n",
        "straightforward to get HTML from web pages and interface with APIs. For parsing\n",
        "HTML, many choose BeautifulSoup4, Web\n",
        "Scraping with Jupyter Notebooks."
      ],
      "metadata": {
        "id": "J0FtvJcpVnkM"
      }
    },
    {
      "cell_type": "markdown",
      "source": [
        "## Using Jupyter to Learn about pandas DataFrames"
      ],
      "metadata": {
        "id": "YIsdQV47Yx2d"
      }
    },
    {
      "cell_type": "markdown",
      "source": [
        "1. Start up one of the platforms for running Jupyter Notebooks and open it in your web browser.\n",
        "2. Import the pandas and NumPy libraries and assign them to the pd and np variables, respectively.\n",
        "3. Pull up the docstring for pd.DataFrame. Scan through the Parameters section and read the Examples section.\n",
        "4. Create a dictionary with fruit and score keys, which correspond to list values\n",
        "with at least three items in each. Ensure that you give your dictionary a suitable\n",
        "name (note that in Python, a dictionary is a collection of values); for example,\n",
        "```\n",
        "{\"fruit\": [\"apple\", ...], \"score\": [8, ...]}.\n",
        "```\n",
        "5. Use this dictionary to create a DataFrame. You can do this using\n",
        "pd.DataFrame(data=name of dictionary). Assign it to the df variable.\n",
        "6.  Display this DataFrame in the Notebook.\n",
        "7. Use tab completion to pull up a list of functions available for df.\n",
        "8. Pull up the docstring for the sort_values DataFrame function and read\n",
        "through the Examples section.\n",
        "9. Sort the DataFrame by score in descending order. Try to see how many times\n",
        "you can use tab completion as you write the code.\n",
        "10. Use the timeit magic function to test how long this sorting operation takes."
      ],
      "metadata": {
        "id": "6ZTOjSXeXNL1"
      }
    },
    {
      "cell_type": "code",
      "source": [],
      "metadata": {
        "id": "wS8eZAVSXwCM"
      },
      "execution_count": 38,
      "outputs": []
    },
    {
      "cell_type": "markdown",
      "source": [
        "## **Solution**"
      ],
      "metadata": {
        "id": "x9qB9ErFYWU7"
      }
    },
    {
      "cell_type": "markdown",
      "source": [
        "```\n",
        "import pandas as pd\n",
        "pd.DataFrame?\n",
        "fruit_scores = {\n",
        "    'fruit': ['apple', 'orange', 'banana', 'blueberry', 'kiwi'],\n",
        "    'score': [4, 2, 9, 8, 10],\n",
        "}\n",
        "df = pd.DataFrame(data=fruit_scores)\n",
        "df\n",
        "df.\n",
        "df.sort_values?\n",
        "df.sort_values(by='score', ascending=False)\n",
        "%timeit df.sort_values(by='score', ascending=False)\n",
        "```"
      ],
      "metadata": {
        "id": "UeVdEKM6YhVZ"
      }
    }
  ]
}